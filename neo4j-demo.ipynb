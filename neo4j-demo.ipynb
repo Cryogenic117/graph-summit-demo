{
 "cells": [
  {
   "cell_type": "code",
   "id": "initial_id",
   "metadata": {
    "collapsed": true,
    "ExecuteTime": {
     "end_time": "2025-03-07T16:28:55.534465Z",
     "start_time": "2025-03-07T16:28:55.530403Z"
    }
   },
   "source": [
    "# !pip install icypher\n",
    "# !pip install neo4j\n",
    "# !pip install yfiles_jupyter_graphs\n"
   ],
   "outputs": [],
   "execution_count": 9
  },
  {
   "metadata": {
    "ExecuteTime": {
     "end_time": "2025-03-07T16:28:55.545168Z",
     "start_time": "2025-03-07T16:28:55.542052Z"
    }
   },
   "cell_type": "code",
   "source": [
    "from neo4j import GraphDatabase\n",
    "import time\n",
    "import ipywidgets as widgets\n",
    "from IPython.display import display\n",
    "URI = \"bolt://localhost:7687\"\n",
    "AUTH = (\"neo4j\", \"neo4j123\")"
   ],
   "id": "beb7b4a8efdb28fd",
   "outputs": [],
   "execution_count": 10
  },
  {
   "metadata": {},
   "cell_type": "markdown",
   "source": "# Create Constraints",
   "id": "e3855e2a3b1f48ec"
  },
  {
   "metadata": {
    "ExecuteTime": {
     "end_time": "2025-03-07T16:28:55.556079Z",
     "start_time": "2025-03-07T16:28:55.552731Z"
    }
   },
   "cell_type": "code",
   "source": [
    "airport_constraint = \"\"\"\n",
    "CREATE CONSTRAINT airport_unique IF NOT EXISTS\n",
    "FOR (a:Airport)\n",
    "REQUIRE a.iata IS UNIQUE;\n",
    "\"\"\"\n",
    "\n",
    "airline_constraint = \"\"\"\n",
    "CREATE CONSTRAINT airline_unique IF NOT EXISTS\n",
    "FOR (a:Airline)\n",
    "REQUIRE a.iata IS UNIQUE;\n",
    "\"\"\"\n",
    "\n",
    "route_constraint = \"\"\"\n",
    "CREATE CONSTRAINT route_node_key IF NOT EXISTS\n",
    "FOR (r:Route)\n",
    "REQUIRE (r.departure, r.arrival) IS NODE KEY;\n",
    "\"\"\""
   ],
   "id": "2a2a26fbb83851ec",
   "outputs": [],
   "execution_count": 11
  },
  {
   "metadata": {},
   "cell_type": "markdown",
   "source": "# Load Airport Nodes",
   "id": "57d4d5cbbfbc89b1"
  },
  {
   "metadata": {
    "ExecuteTime": {
     "end_time": "2025-03-07T16:28:55.566130Z",
     "start_time": "2025-03-07T16:28:55.562364Z"
    }
   },
   "cell_type": "code",
   "source": [
    "\n",
    "query_airports = \"\"\"\n",
    "LOAD CSV WITH HEADERS FROM \"https://raw.githubusercontent.com/Cryogenic117/graph-summit-demo/refs/heads/main/df_airports.csv\" AS row\n",
    "WITH\n",
    "  trim(row.Airport_IATA) AS iata,\n",
    "  trim(row.City) AS city,\n",
    "  trim(row.Country) AS country,\n",
    "  toFloat(row.Latitude) AS lat,\n",
    "  toFloat(row.Longitude) AS lon,\n",
    "  point({latitude: toFloat(row.Latitude), longitude: toFloat(row.Longitude)}) AS geolocation\n",
    "MERGE (a:Airport {iata: iata})\n",
    "ON CREATE SET\n",
    "  a.city = city,\n",
    "  a.country = country,\n",
    "  a.geolocation = geolocation\n",
    "RETURN DISTINCT 'Complete';\n",
    "\"\"\""
   ],
   "id": "b562b2608c50a407",
   "outputs": [],
   "execution_count": 12
  },
  {
   "metadata": {},
   "cell_type": "markdown",
   "source": "# Load Route Nodes",
   "id": "e157e9770132ad68"
  },
  {
   "metadata": {
    "ExecuteTime": {
     "end_time": "2025-03-07T16:28:55.574185Z",
     "start_time": "2025-03-07T16:28:55.571156Z"
    }
   },
   "cell_type": "code",
   "source": [
    "query_routes = \"\"\"\n",
    "LOAD CSV WITH HEADERS FROM \"https://raw.githubusercontent.com/Cryogenic117/graph-summit-demo/refs/heads/main/df_routes.csv\" AS row\n",
    "WITH\n",
    "  trim(row.Departure) AS departure,\n",
    "  trim(row.Arrival) AS arrival,\n",
    "  toFloat(row.Distance_km) AS distance,\n",
    "  toFloat(row.Duration_min) AS duration\n",
    "MERGE (r:Route {departure: departure, arrival: arrival})\n",
    "  ON CREATE SET r.distance = distance,\n",
    "                r.duration = duration,\n",
    "                r.id = randomUUID();\n",
    "\"\"\""
   ],
   "id": "2f8e52b76abb3d8e",
   "outputs": [],
   "execution_count": 13
  },
  {
   "metadata": {},
   "cell_type": "markdown",
   "source": "# Load Airline Nodes",
   "id": "e70a32c4d5307852"
  },
  {
   "metadata": {
    "ExecuteTime": {
     "end_time": "2025-03-07T16:28:55.583227Z",
     "start_time": "2025-03-07T16:28:55.579677Z"
    }
   },
   "cell_type": "code",
   "source": [
    "query_airlines = \"\"\"\n",
    "LOAD CSV WITH HEADERS FROM \"https://raw.githubusercontent.com/Cryogenic117/graph-summit-demo/refs/heads/main/df_routes.csv\" AS row\n",
    "WITH trim(row.Airline_IATA) AS airline\n",
    "MERGE (a:Airline {iata: airline});\n",
    "\"\"\""
   ],
   "id": "a151e1b7771db4a7",
   "outputs": [],
   "execution_count": 14
  },
  {
   "metadata": {},
   "cell_type": "markdown",
   "source": "# Load Airline Properties",
   "id": "5fce408223061044"
  },
  {
   "metadata": {
    "ExecuteTime": {
     "end_time": "2025-03-07T16:28:55.592589Z",
     "start_time": "2025-03-07T16:28:55.588974Z"
    }
   },
   "cell_type": "code",
   "source": [
    "query_airline_props = \"\"\"\n",
    "LOAD CSV WITH HEADERS FROM \"https://raw.githubusercontent.com/Cryogenic117/graph-summit-demo/refs/heads/main/airline_data.csv\" AS row\n",
    "WITH trim(row.IATA) AS iata,\n",
    "     trim(row.Airline) AS airlineName,\n",
    "     trim(row.`Country/Region`) AS region,\n",
    "     trim(row.Comments) AS comments\n",
    "MATCH (a:Airline {iata: iata})\n",
    "SET a.name = CASE WHEN airlineName IS NOT NULL AND airlineName <> \"\" THEN airlineName ELSE a.name END,\n",
    "    a.region = CASE WHEN region IS NOT NULL AND region <> \"\" THEN region ELSE a.region END,\n",
    "    a.comments = CASE WHEN comments IS NOT NULL AND comments <> \"\" THEN comments ELSE a.comments END\n",
    "\"\"\""
   ],
   "id": "37e1b27dce17b5e0",
   "outputs": [],
   "execution_count": 15
  },
  {
   "metadata": {},
   "cell_type": "markdown",
   "source": "# Load All Relationships",
   "id": "936e5b5debe334a5"
  },
  {
   "metadata": {
    "ExecuteTime": {
     "end_time": "2025-03-07T16:28:55.601203Z",
     "start_time": "2025-03-07T16:28:55.598683Z"
    }
   },
   "cell_type": "code",
   "source": [
    "query_relationships = \"\"\"\n",
    "LOAD CSV WITH HEADERS FROM \"https://raw.githubusercontent.com/Cryogenic117/graph-summit-demo/refs/heads/main/df_routes.csv\" AS row\n",
    "WITH\n",
    "  trim(row.Departure) AS departure,\n",
    "  trim(row.Arrival) AS arrival,\n",
    "  trim(row.Airline_IATA) AS airline\n",
    "MATCH (dep:Airport {iata: departure})\n",
    "MATCH (arr:Airport {iata: arrival})\n",
    "MATCH (r:Route {departure: departure, arrival: arrival})\n",
    "MERGE (dep)-[:HAS_ROUTE]->(r)\n",
    "MERGE (r)-[:DESTINATION]->(arr)\n",
    "WITH departure, arrival, airline, r\n",
    "MATCH (a:Airline {iata: airline})\n",
    "MERGE (a)-[:OPERATES]->(r);\n",
    "\"\"\""
   ],
   "id": "37ca3587031644ed",
   "outputs": [],
   "execution_count": 16
  },
  {
   "metadata": {},
   "cell_type": "markdown",
   "source": "# Run Queries",
   "id": "abdf81e75b280cdb"
  },
  {
   "metadata": {
    "ExecuteTime": {
     "end_time": "2025-03-07T16:29:08.487338Z",
     "start_time": "2025-03-07T16:28:55.605763Z"
    }
   },
   "cell_type": "code",
   "source": [
    "queries = [\n",
    "    (\"Airport Constraint Creation\", airport_constraint),\n",
    "    (\"Airline Constraint Creation\", airline_constraint),\n",
    "    (\"Route Constraint Creation\", route_constraint),\n",
    "    (\"Airport Nodes Creation\", query_airports),\n",
    "    (\"Route Nodes Creation\", query_routes),\n",
    "    (\"Airline Nodes Creation\", query_airlines),\n",
    "    (\"Airline Properties Creation\", query_airline_props),\n",
    "    (\"Relationships Creation\", query_relationships)\n",
    "]\n",
    "\n",
    "progress_bar = widgets.IntProgress(value=0, min=0, max=len(queries))\n",
    "status_label = widgets.Label(value=\"Starting...\")\n",
    "display(progress_bar, status_label)\n",
    "\n",
    "driver = GraphDatabase.driver(URI, auth=AUTH)\n",
    "with driver.session() as session:\n",
    "    for i, (query_name, query) in enumerate(queries, start=1):\n",
    "        status_label.value = f\"Running {query_name}...\"\n",
    "        start_time = time.time()\n",
    "        session.run(query)\n",
    "        elapsed = time.time() - start_time\n",
    "        status_label.value = f\"Completed {query_name} in {elapsed:.2f} seconds.\"\n",
    "        progress_bar.value = i\n",
    "        time.sleep(1)\n",
    "driver.close()\n",
    "\n",
    "status_label.value = \"All queries completed.\""
   ],
   "id": "54731ad82696eda4",
   "outputs": [
    {
     "data": {
      "text/plain": [
       "IntProgress(value=0, max=8)"
      ],
      "application/vnd.jupyter.widget-view+json": {
       "version_major": 2,
       "version_minor": 0,
       "model_id": "92f470665af94ed7ba37037ae2257915"
      }
     },
     "metadata": {},
     "output_type": "display_data"
    },
    {
     "data": {
      "text/plain": [
       "Label(value='Starting...')"
      ],
      "application/vnd.jupyter.widget-view+json": {
       "version_major": 2,
       "version_minor": 0,
       "model_id": "89b2d27ffe2b4a52ba0ba85d01c211bc"
      }
     },
     "metadata": {},
     "output_type": "display_data"
    }
   ],
   "execution_count": 17
  }
 ],
 "metadata": {
  "kernelspec": {
   "display_name": "Python 3",
   "language": "python",
   "name": "python3"
  },
  "language_info": {
   "codemirror_mode": {
    "name": "ipython",
    "version": 2
   },
   "file_extension": ".py",
   "mimetype": "text/x-python",
   "name": "python",
   "nbconvert_exporter": "python",
   "pygments_lexer": "ipython2",
   "version": "2.7.6"
  }
 },
 "nbformat": 4,
 "nbformat_minor": 5
}
