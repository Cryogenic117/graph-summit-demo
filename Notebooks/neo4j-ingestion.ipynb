{
 "cells": [
  {
   "metadata": {},
   "cell_type": "markdown",
   "source": [
    "# Data Model\n",
    "\n",
    "![mode.png](https://github.com/Cryogenic117/graph-summit-demo/blob/main/model.png?raw=true)"
   ],
   "id": "aa73e5fc4164ea10"
  },
  {
   "metadata": {},
   "cell_type": "markdown",
   "source": "# Connect To Neo4j",
   "id": "457ff6d6c97b1d76"
  },
  {
   "metadata": {
    "ExecuteTime": {
     "end_time": "2025-03-10T16:48:09.428852Z",
     "start_time": "2025-03-10T16:48:09.425235Z"
    }
   },
   "cell_type": "code",
   "source": [
    "from neo4j import GraphDatabase\n",
    "import time\n",
    "import ipywidgets as widgets\n",
    "from IPython.display import display\n",
    "\n",
    "URI = \"bolt://localhost:7687\"\n",
    "AUTH = (\"neo4j\", \"neo4j123\")"
   ],
   "id": "beb7b4a8efdb28fd",
   "outputs": [],
   "execution_count": 114
  },
  {
   "metadata": {},
   "cell_type": "markdown",
   "source": "# Create Constraints",
   "id": "e3855e2a3b1f48ec"
  },
  {
   "metadata": {
    "ExecuteTime": {
     "end_time": "2025-03-10T16:48:09.441485Z",
     "start_time": "2025-03-10T16:48:09.436940Z"
    }
   },
   "cell_type": "code",
   "source": [
    "airport_constraint = \"\"\"\n",
    "CREATE CONSTRAINT airport_unique IF NOT EXISTS\n",
    "FOR (a:Airport)\n",
    "REQUIRE a.iata IS UNIQUE;\n",
    "\"\"\"\n",
    "\n",
    "airline_constraint = \"\"\"\n",
    "CREATE CONSTRAINT airline_unique IF NOT EXISTS\n",
    "FOR (a:Airline)\n",
    "REQUIRE a.iata IS UNIQUE;\n",
    "\"\"\"\n",
    "\n",
    "route_constraint = \"\"\"\n",
    "CREATE CONSTRAINT route_node_key IF NOT EXISTS\n",
    "FOR (r:Route)\n",
    "REQUIRE (r.departure, r.arrival) IS NODE KEY;\n",
    "\"\"\"\n",
    "\n",
    "hotel_constraint = \"\"\"\n",
    "CREATE CONSTRAINT hotel_unique IF NOT EXISTS\n",
    "FOR (h:Hotel)\n",
    "REQUIRE h.code IS UNIQUE;\n",
    "\"\"\""
   ],
   "id": "2a2a26fbb83851ec",
   "outputs": [],
   "execution_count": 115
  },
  {
   "metadata": {},
   "cell_type": "markdown",
   "source": "# Create Indexes",
   "id": "e3d6642813c358b9"
  },
  {
   "metadata": {
    "ExecuteTime": {
     "end_time": "2025-03-10T16:48:09.448141Z",
     "start_time": "2025-03-10T16:48:09.446114Z"
    }
   },
   "cell_type": "code",
   "source": [
    "hotel_index = \"\"\"\n",
    "CREATE INDEX IF NOT EXISTS FOR (h:Hotel) ON (h.country);\n",
    "\"\"\"\n",
    "\n",
    "airport_index = \"\"\"\n",
    "CREATE INDEX IF NOT EXISTS FOR (a:Airport) ON (a.country);\n",
    "\"\"\"\n"
   ],
   "id": "ba315fcd860a2e09",
   "outputs": [],
   "execution_count": 116
  },
  {
   "metadata": {},
   "cell_type": "markdown",
   "source": "# Load Airport Nodes",
   "id": "57d4d5cbbfbc89b1"
  },
  {
   "metadata": {
    "ExecuteTime": {
     "end_time": "2025-03-10T16:48:09.462357Z",
     "start_time": "2025-03-10T16:48:09.458814Z"
    }
   },
   "cell_type": "code",
   "source": [
    "\n",
    "query_airports = \"\"\"\n",
    "LOAD CSV WITH HEADERS FROM \"https://raw.githubusercontent.com/Cryogenic117/graph-summit-demo/refs/heads/main/Data/df_airports.csv\" AS row\n",
    "WITH\n",
    "  trim(row.Airport_IATA) AS iata,\n",
    "  trim(row.City) AS city,\n",
    "  trim(row.Country) AS country,\n",
    "  point({latitude: toFloat(row.Latitude), longitude:  toFloat(row.Longitude)}) AS geolocation\n",
    "MERGE (a:Airport {iata: iata})\n",
    "ON CREATE SET\n",
    "  a.city = city,\n",
    "  a.country = country,\n",
    "  a.geolocation = geolocation\n",
    "RETURN DISTINCT 'Complete';\n",
    "\"\"\""
   ],
   "id": "b562b2608c50a407",
   "outputs": [],
   "execution_count": 117
  },
  {
   "metadata": {},
   "cell_type": "markdown",
   "source": "# Load Route Nodes",
   "id": "e157e9770132ad68"
  },
  {
   "metadata": {
    "ExecuteTime": {
     "end_time": "2025-03-10T16:48:09.469449Z",
     "start_time": "2025-03-10T16:48:09.465910Z"
    }
   },
   "cell_type": "code",
   "source": [
    "query_routes = \"\"\"\n",
    "LOAD CSV WITH HEADERS FROM \"https://raw.githubusercontent.com/Cryogenic117/graph-summit-demo/refs/heads/main/Data/df_routes.csv\" AS row\n",
    "WITH\n",
    "  trim(row.Departure) AS departure,\n",
    "  trim(row.Arrival) AS arrival,\n",
    "  toFloat(row.Distance_km) AS distance,\n",
    "  toFloat(row.Duration_min) AS duration\n",
    "MERGE (r:Route {departure: departure, arrival: arrival})\n",
    "  ON CREATE SET r.distance = distance,\n",
    "                r.duration = duration,\n",
    "                r.id = randomUUID();\n",
    "\"\"\""
   ],
   "id": "2f8e52b76abb3d8e",
   "outputs": [],
   "execution_count": 118
  },
  {
   "metadata": {},
   "cell_type": "markdown",
   "source": "# Load Airline Nodes",
   "id": "e70a32c4d5307852"
  },
  {
   "metadata": {
    "ExecuteTime": {
     "end_time": "2025-03-10T16:48:09.483773Z",
     "start_time": "2025-03-10T16:48:09.480563Z"
    }
   },
   "cell_type": "code",
   "source": [
    "query_airlines = \"\"\"\n",
    "LOAD CSV WITH HEADERS FROM \"https://raw.githubusercontent.com/Cryogenic117/graph-summit-demo/refs/heads/main/Data/df_routes.csv\" AS row\n",
    "WITH trim(row.Airline_IATA) AS airline\n",
    "MERGE (a:Airline {iata: airline});\n",
    "\"\"\""
   ],
   "id": "a151e1b7771db4a7",
   "outputs": [],
   "execution_count": 119
  },
  {
   "metadata": {},
   "cell_type": "markdown",
   "source": "# Load Hotel Nodes",
   "id": "c0c4b8527435c43e"
  },
  {
   "metadata": {
    "ExecuteTime": {
     "end_time": "2025-03-10T16:48:09.490408Z",
     "start_time": "2025-03-10T16:48:09.486822Z"
    }
   },
   "cell_type": "code",
   "source": [
    "query_hotel = \"\"\"\n",
    "CALL() {\n",
    "LOAD CSV WITH HEADERS FROM \"https://drive.usercontent.google.com/u/0/uc?id=1EHRz56PWLdzJYQgTmBMVgZSjjFn_dmuA&export=download\" AS row\n",
    "  WITH\n",
    "    toInteger(row.HotelCode) AS hotelCode,\n",
    "    trim(row.countyName) AS county,\n",
    "    trim(row.cityName) AS city,\n",
    "    trim(row.HotelName) AS hotelName,\n",
    "    toInteger(row.HotelRating) AS hotelRating,\n",
    "    CASE\n",
    "      WHEN row.Map IS NOT NULL AND row.Map <> \"\"\n",
    "      THEN point({\n",
    "            latitude: toFloat(split(row.Map, '|')[0]),\n",
    "            longitude: toFloat(split(row.Map, '|')[1])\n",
    "         })\n",
    "      ELSE NULL\n",
    "    END AS geoLocation,\n",
    "    trim(row.HotelWebsiteUrl) AS website\n",
    "  MERGE (h:Hotel {code: hotelCode})\n",
    "  ON CREATE SET\n",
    "    h.name = hotelName,\n",
    "    h.rating = hotelRating,\n",
    "    h.country = county,\n",
    "    h.city = city,\n",
    "    h.geolocation = geoLocation,\n",
    "    h.website = CASE WHEN website IS NOT NULL AND website <> \"\" THEN website ELSE NULL END\n",
    "  RETURN count(*) AS processed\n",
    "} IN TRANSACTIONS\n",
    "RETURN 'done' AS status;\n",
    "\"\"\""
   ],
   "id": "8886fb4b6e3fba56",
   "outputs": [],
   "execution_count": 120
  },
  {
   "metadata": {},
   "cell_type": "markdown",
   "source": "# Load Airline Properties",
   "id": "5fce408223061044"
  },
  {
   "metadata": {
    "ExecuteTime": {
     "end_time": "2025-03-10T16:48:09.499Z",
     "start_time": "2025-03-10T16:48:09.495448Z"
    }
   },
   "cell_type": "code",
   "source": [
    "query_airline_props = \"\"\"\n",
    "LOAD CSV WITH HEADERS FROM \"https://raw.githubusercontent.com/Cryogenic117/graph-summit-demo/refs/heads/main/Data/airline_data.csv\" AS row\n",
    "WITH trim(row.IATA) AS iata,\n",
    "     trim(row.Airline) AS airlineName,\n",
    "     trim(row.`Country/Region`) AS region,\n",
    "     trim(row.Comments) AS comments\n",
    "MATCH (a:Airline {iata: iata})\n",
    "SET a.name = CASE WHEN airlineName IS NOT NULL AND airlineName <> \"\" THEN airlineName ELSE a.name END,\n",
    "    a.region = CASE WHEN region IS NOT NULL AND region <> \"\" THEN region ELSE a.region END,\n",
    "    a.comments = CASE WHEN comments IS NOT NULL AND comments <> \"\" THEN comments ELSE a.comments END\n",
    "\"\"\""
   ],
   "id": "37e1b27dce17b5e0",
   "outputs": [],
   "execution_count": 121
  },
  {
   "metadata": {},
   "cell_type": "markdown",
   "source": "# Load Route Relationships",
   "id": "936e5b5debe334a5"
  },
  {
   "metadata": {
    "ExecuteTime": {
     "end_time": "2025-03-10T16:48:09.508300Z",
     "start_time": "2025-03-10T16:48:09.504060Z"
    }
   },
   "cell_type": "code",
   "source": [
    "query_relationships = \"\"\"\n",
    "LOAD CSV WITH HEADERS FROM \"https://raw.githubusercontent.com/Cryogenic117/graph-summit-demo/refs/heads/main/Data/df_routes.csv\" AS row\n",
    "WITH\n",
    "  trim(row.Departure) AS departure,\n",
    "  trim(row.Arrival) AS arrival,\n",
    "  trim(row.Airline_IATA) AS airline\n",
    "MATCH (dep:Airport {iata: departure})\n",
    "MATCH (arr:Airport {iata: arrival})\n",
    "MATCH (r:Route {departure: departure, arrival: arrival})\n",
    "MERGE (dep)-[:HAS_ROUTE]->(r)\n",
    "MERGE (r)-[:DESTINATION]->(arr)\n",
    "WITH departure, arrival, airline, r\n",
    "MATCH (a:Airline {iata: airline})\n",
    "MERGE (a)-[:OPERATES]->(r);\n",
    "\"\"\""
   ],
   "id": "37ca3587031644ed",
   "outputs": [],
   "execution_count": 122
  },
  {
   "metadata": {},
   "cell_type": "markdown",
   "source": [
    "# Load Hotel and Airport Relationship\n",
    "\n",
    "Creates Near relationship for hotels and airports within 15 miles of each other"
   ],
   "id": "106078144fbf509c"
  },
  {
   "metadata": {
    "ExecuteTime": {
     "end_time": "2025-03-10T16:48:09.518852Z",
     "start_time": "2025-03-10T16:48:09.513941Z"
    }
   },
   "cell_type": "code",
   "source": [
    "query_hotel_relationships = \"\"\"\n",
    "WITH 15 * 1609.34 / 111320.0 AS delta\n",
    "MATCH (h:Hotel)\n",
    "WHERE h.geolocation IS NOT NULL AND h.country IS NOT NULL\n",
    "WITH h, h.geolocation AS loc, h.country as country, delta\n",
    "MATCH (a:Airport)\n",
    "WHERE a.geolocation IS NOT NULL\n",
    "    AND a.country = country\n",
    "  AND a.geolocation.latitude  >= loc.latitude  - delta\n",
    "  AND a.geolocation.latitude  <= loc.latitude  + delta\n",
    "  AND a.geolocation.longitude >= loc.longitude - delta\n",
    "  AND a.geolocation.longitude <= loc.longitude + delta\n",
    "MERGE (h)-[:NEAR]-(a)\n",
    "\"\"\""
   ],
   "id": "13907fc263a73b4e",
   "outputs": [],
   "execution_count": 123
  },
  {
   "metadata": {},
   "cell_type": "markdown",
   "source": "# Run Queries",
   "id": "abdf81e75b280cdb"
  },
  {
   "metadata": {
    "ExecuteTime": {
     "end_time": "2025-03-10T16:49:37.384659Z",
     "start_time": "2025-03-10T16:48:09.524678Z"
    }
   },
   "cell_type": "code",
   "source": [
    "queries = [\n",
    "    (\"Airport Constraint Creation\", airport_constraint),\n",
    "    (\"Airline Constraint Creation\", airline_constraint),\n",
    "    (\"Hotel Constraint Creation\", hotel_constraint),\n",
    "    (\"Route Constraint Creation\", route_constraint),\n",
    "    (\"Airport Geo Index Creation\", airport_index),\n",
    "    (\"Hotel Geo Index Creation\", hotel_index),\n",
    "    (\"Airport Nodes Creation\", query_airports),\n",
    "    (\"Route Nodes Creation\", query_routes),\n",
    "    (\"Airline Nodes Creation\", query_airlines),\n",
    "    (\"Hotel Nodes Creation\", query_hotel),\n",
    "    (\"Airline Properties Creation\", query_airline_props),\n",
    "    (\"Route Relationships Creation\", query_relationships),\n",
    "    (\"Hotel and Airport Relationship Creation\", query_hotel_relationships),\n",
    "]\n",
    "\n",
    "progress_bar = widgets.IntProgress(value=0, min=0, max=len(queries))\n",
    "status_label = widgets.Label(value=\"Starting...\")\n",
    "display(progress_bar, status_label)\n",
    "\n",
    "driver = GraphDatabase.driver(URI, auth=AUTH)\n",
    "with driver.session() as session:\n",
    "    for i, (query_name, query) in enumerate(queries, start=1):\n",
    "        status_label.value = f\"Running {query_name}...\"\n",
    "        start_time = time.time()\n",
    "        session.run(query)\n",
    "        elapsed = time.time() - start_time\n",
    "        status_label.value = f\"Completed {query_name} in {elapsed:.2f} seconds.\"\n",
    "        progress_bar.value = i\n",
    "        time.sleep(1)\n",
    "driver.close()\n",
    "\n",
    "status_label.value = \"All queries completed.\""
   ],
   "id": "54731ad82696eda4",
   "outputs": [
    {
     "data": {
      "text/plain": [
       "IntProgress(value=0, max=13)"
      ],
      "application/vnd.jupyter.widget-view+json": {
       "version_major": 2,
       "version_minor": 0,
       "model_id": "3bfd07b3952942898d405bd3762d789c"
      }
     },
     "metadata": {},
     "output_type": "display_data"
    },
    {
     "data": {
      "text/plain": [
       "Label(value='Starting...')"
      ],
      "application/vnd.jupyter.widget-view+json": {
       "version_major": 2,
       "version_minor": 0,
       "model_id": "b56f879a4dc34c8e9fbca98a65772a18"
      }
     },
     "metadata": {},
     "output_type": "display_data"
    }
   ],
   "execution_count": 124
  }
 ],
 "metadata": {
  "kernelspec": {
   "display_name": "Python 3",
   "language": "python",
   "name": "python3"
  },
  "language_info": {
   "codemirror_mode": {
    "name": "ipython",
    "version": 2
   },
   "file_extension": ".py",
   "mimetype": "text/x-python",
   "name": "python",
   "nbconvert_exporter": "python",
   "pygments_lexer": "ipython2",
   "version": "2.7.6"
  }
 },
 "nbformat": 4,
 "nbformat_minor": 5
}
